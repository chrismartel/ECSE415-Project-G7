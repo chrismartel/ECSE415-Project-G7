{
  "nbformat": 4,
  "nbformat_minor": 0,
  "metadata": {
    "colab": {
      "name": "tracking.ipynb",
      "provenance": [],
      "authorship_tag": "ABX9TyPulFGbgsCvV9BKO0JmpXs2",
      "include_colab_link": true
    },
    "kernelspec": {
      "name": "python3",
      "display_name": "Python 3"
    },
    "language_info": {
      "name": "python"
    }
  },
  "cells": [
    {
      "cell_type": "markdown",
      "metadata": {
        "id": "view-in-github",
        "colab_type": "text"
      },
      "source": [
        "<a href=\"https://colab.research.google.com/github/chrismartel/ECSE415-Project-G7/blob/main/tracking/tracking.ipynb\" target=\"_parent\"><img src=\"https://colab.research.google.com/assets/colab-badge.svg\" alt=\"Open In Colab\"/></a>"
      ]
    },
    {
      "cell_type": "code",
      "execution_count": null,
      "metadata": {
        "id": "5DOAfTZS4twO"
      },
      "outputs": [],
      "source": [
        ""
      ]
    },
    {
      "cell_type": "markdown",
      "source": [
        "###Optical Flow Method (Lucas-Kanade)"
      ],
      "metadata": {
        "id": "Tau8fZTH40PG"
      }
    },
    {
      "cell_type": "code",
      "source": [
        ""
      ],
      "metadata": {
        "id": "lwLZNgpS41_a"
      },
      "execution_count": null,
      "outputs": []
    },
    {
      "cell_type": "markdown",
      "source": [
        "###Tracking Methods from OpenCV"
      ],
      "metadata": {
        "id": "dukRCJYo42Zp"
      }
    },
    {
      "cell_type": "code",
      "source": [
        "import cv2\n",
        "\n",
        "# tracking methods available in OpenCV:\n",
        "\n",
        "# tracker = cv2.TrackerBoosting_create()\n",
        "# tracker = cv2.TrackerMIL_create()\n",
        "# tracker = cv2.TrackerKCF_create()\n",
        "# tracker = cv2.TrackerTLD_create()\n",
        "# tracker = cv2.TrackerMedianFlow_create()\n",
        "# tracker = cv2.TrackerGOTURN_create()\n",
        "# tracker = cv2.TrackerMOSSE_create()\n",
        "# tracker = cv2.TrackerCSRT_create()"
      ],
      "metadata": {
        "id": "sfL0Elbo43lY"
      },
      "execution_count": null,
      "outputs": []
    }
  ]
}