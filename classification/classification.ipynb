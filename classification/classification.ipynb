{
  "nbformat": 4,
  "nbformat_minor": 0,
  "metadata": {
    "colab": {
      "name": "Untitled4.ipynb",
      "provenance": [],
      "include_colab_link": true
    },
    "kernelspec": {
      "name": "python3",
      "display_name": "Python 3"
    },
    "language_info": {
      "name": "python"
    }
  },
  "cells": [
    {
      "cell_type": "markdown",
      "metadata": {
        "id": "view-in-github",
        "colab_type": "text"
      },
      "source": [
        "<a href=\"https://colab.research.google.com/github/chrismartel/ECSE415-Project-G7/blob/main/classification/classification.ipynb\" target=\"_parent\"><img src=\"https://colab.research.google.com/assets/colab-badge.svg\" alt=\"Open In Colab\"/></a>"
      ]
    },
    {
      "cell_type": "markdown",
      "source": [
        "####Download Vehicle Dataset"
      ],
      "metadata": {
        "id": "QnE4ItFOypEL"
      }
    },
    {
      "cell_type": "code",
      "source": [
        "!wget -O output https://mcgill-my.sharepoint.com/:u:/g/personal/raghav_mehta_mail_mcgill_ca/EVEvhY9_jyVEk2uSZ8wZhFYBQ58C57I7ZB55jBocKwB5Jg?download=1\n",
        "!mv output dataset.zip\n",
        "!unzip dataset.zip\n",
        "!rm dataset.zip"
      ],
      "metadata": {
        "id": "evGmtRtpx1SF",
        "colab": {
          "base_uri": "https://localhost:8080/"
        },
        "outputId": "b29c2093-66ad-4ec1-b816-5ac68344e6f4"
      },
      "execution_count": 1,
      "outputs": [
        {
          "output_type": "stream",
          "name": "stdout",
          "text": [
            "--2022-03-24 19:28:14--  https://mcgill-my.sharepoint.com/:u:/g/personal/raghav_mehta_mail_mcgill_ca/EVEvhY9_jyVEk2uSZ8wZhFYBQ58C57I7ZB55jBocKwB5Jg?download=1\n",
            "Resolving mcgill-my.sharepoint.com (mcgill-my.sharepoint.com)... 13.107.136.9, 13.107.138.9\n",
            "Connecting to mcgill-my.sharepoint.com (mcgill-my.sharepoint.com)|13.107.136.9|:443... connected.\n",
            "HTTP request sent, awaiting response... 302 Found\n",
            "Location: /personal/raghav_mehta_mail_mcgill_ca/Documents/dataset.zip [following]\n",
            "--2022-03-24 19:28:15--  https://mcgill-my.sharepoint.com/personal/raghav_mehta_mail_mcgill_ca/Documents/dataset.zip\n",
            "Reusing existing connection to mcgill-my.sharepoint.com:443.\n",
            "HTTP request sent, awaiting response... 200 OK\n",
            "Length: 826880986 (789M) [application/x-zip-compressed]\n",
            "Saving to: ‘output’\n",
            "\n",
            "output                6%[>                   ]  50.64M   216KB/s    eta 58m 3s ^C\n",
            "Archive:  dataset.zip\n",
            "  End-of-central-directory signature not found.  Either this file is not\n",
            "  a zipfile, or it constitutes one disk of a multi-part archive.  In the\n",
            "  latter case the central directory and zipfile comment will be found on\n",
            "  the last disk(s) of this archive.\n",
            "unzip:  cannot find zipfile directory in one of dataset.zip or\n",
            "        dataset.zip.zip, and cannot find dataset.zip.ZIP, period.\n"
          ]
        }
      ]
    },
    {
      "cell_type": "markdown",
      "source": [
        "#### Given helper parsing function\n",
        "- Modified to acommodate our needs"
      ],
      "metadata": {
        "id": "GxB6gvgXZtBQ"
      }
    },
    {
      "cell_type": "code",
      "source": [
        "import numpy as np\n",
        "import matplotlib.pyplot as plt\n",
        "from skimage import io\n",
        "import cv2 as cv\n",
        "\n",
        "def parse(filepath):\n",
        "  '''\n",
        "      Parse gt.txt with format\n",
        "        <frame>, <id>, <type>, <truncated>, <occluded>, <alpha>, <bb_left>, <bb_top>, <bb_right>, <bb_bottom>, <3D_H>, <3D_W>, <3D_L>, <x>, <y>, <z>, <ry>\n",
        "      Return dict as:\n",
        "        <type> = \"Car\", \"Van\", \"Truck\", \"Pedastrian\", \"Person_sitting\", \"Cyclist\", \"Tram\", \"Misc\", \"DontCare\"\n",
        "        key: frame\n",
        "        value: list - <id>, <bb_left>, <bb_top>, <bb_right>, <bb_bottom>, <is_vehicle>\n",
        "      Feel free to edit your structure as needed!\n",
        "  '''\n",
        "\n",
        "  used_type = [\"Car\", \"Van\", \"Truck\", \"Tram\"]\n",
        "\n",
        "  lines = open(filepath, \"r\").readlines()                                 \n",
        "  bbox = {}\n",
        "\n",
        "       #  <frame>, <id>, <truncated>, <occluded>, <alpha>, <bb_left>, <bb_top>, <bb_right>, <bb_bottom>, <3D_H>, <3D_W>, <3D_L>, <x>,   <y>,   <z>,   <ry>\n",
        "  mask = [False,   True,  False,       False,      False,   True,      True,     True,       True,        False,  False,  False,  False, False, False, False]\n",
        "  \n",
        "  for line in lines:\n",
        "    l = line.strip().split(' ') #convert line to list\n",
        "    typ = l.pop(2)  # get type of bbox \n",
        "    line = np.asarray(l).astype(np.float32) # convert into array \n",
        "    frame, line = int(line[0]), line[mask] # get frame number and mask the line   \n",
        "    if frame not in bbox.keys():\n",
        "      bbox[frame] = []   \n",
        "    if typ in used_type:\n",
        "        bbox[frame].append(line)\n",
        "  return bbox\n",
        "\n",
        "def add_bbox(img, bbox, color=(255, 0, 0), thickness=2):\n",
        "  ''' \n",
        "    annotate an image with bounding boxes:\n",
        "    supports single bbox or list of bboxs\n",
        "  '''\n",
        "\n",
        "  annotated = np.copy(img)\n",
        "  if bbox: \n",
        "    if isinstance(bbox[0], np.ndarray) or isinstance(bbox[0], list):\n",
        "        for (_,x1,y1,x2,y2) in bbox:\n",
        "            cv.rectangle(annotated, (x1, y1), (x2, y2), color , thickness)\n",
        "    else:\n",
        "        _,x1,y1,x2,y2 = bbox\n",
        "        cv.rectangle(annotated, (x1, y1), (x2, y2), color , thickness)\n",
        "  \n",
        "  return annotated"
      ],
      "metadata": {
        "id": "mz9hXuewy1N7"
      },
      "execution_count": null,
      "outputs": []
    },
    {
      "cell_type": "markdown",
      "source": [
        "#### Helper function to compute the intersection patch when two images overlap"
      ],
      "metadata": {
        "id": "Le07bvciZ-62"
      }
    },
    {
      "cell_type": "code",
      "source": [
        "\"\"\"\n",
        "Compute intersection rectangle of two rectangles\n",
        "r1: tuple (x1,y1,x2,y2) coordinates of rectangle 1\n",
        "r2: tuple (x1,y1,x2,y2) coordinates of rectangle 2\n",
        "return area interesction rectangle\n",
        "\"\"\"\n",
        "def intersection(r1, r2):\n",
        "  # x axis\n",
        "\n",
        "  # r2 in r1\n",
        "  if r1[0] <= r2[0] and r1[2] >= r2[2]:\n",
        "    x1, x2 = r2[0], r2[2]\n",
        "\n",
        "  # r1 in r2\n",
        "  elif r2[0] <= r1[0] and r2[2] >= r1[2]:\n",
        "    x1, x2 = r1[0], r1[2]\n",
        "\n",
        "  # r1 left of r2 and overlap\n",
        "  elif r1[0] <= r2[0] and r1[2] >= r2[0]:\n",
        "    x1, x2 = r2[0], r1[2]\n",
        "\n",
        "  # r2 left of r1 and overlap\n",
        "  elif r2[0] <= r1[0] and r2[2] >= r1[0]:\n",
        "    x1, x2 = r1[0], r2[2]\n",
        "\n",
        "  # no overlap\n",
        "  else:\n",
        "    return None\n",
        "\n",
        "  # y axis\n",
        "\n",
        "  # r2 in r1\n",
        "  if r1[1] <= r2[1] and r1[3] >= r2[3]:\n",
        "    y1, y2 = r2[1], r2[3]\n",
        "\n",
        "  # r1 in r2\n",
        "  if r2[1] <= r1[1] and r2[3] >= r1[3]:\n",
        "    y1, y2 = r1[1], r1[3]\n",
        "\n",
        "  # r1 top of r2 and overlap\n",
        "  elif r1[1] <= r2[1] and r1[3] >= r2[1]:\n",
        "    y1, y2 = r2[1], r1[3]\n",
        "\n",
        "  # r2 top of r1 and overlap\n",
        "  elif r2[1] <= r1[1] and r2[3] >= r1[1]:\n",
        "    y1, y2 = r1[1], r2[3]\n",
        "\n",
        "  # no overlap\n",
        "  else:\n",
        "    return None\n",
        "\n",
        "  return int(x1), int(y1), int(x2), int(y2)\n",
        "\n",
        "\"\"\"\n",
        "Rectangle area\n",
        "r: tuple (x1,y1,x2,y2) coordinates of rectangle \n",
        "return area\n",
        "\"\"\"\n",
        "def area(r):\n",
        "  return (r[2]-r[0])*(r[3]-r[1])"
      ],
      "metadata": {
        "id": "SRowSE1vJEdz"
      },
      "execution_count": null,
      "outputs": []
    },
    {
      "cell_type": "markdown",
      "source": [
        "##**Build Dataset**\n"
      ],
      "metadata": {
        "id": "77efUfVlxzjS"
      }
    },
    {
      "cell_type": "markdown",
      "source": [
        "###Positive Dataset\n",
        "\n",
        "Use provided bounding boxes from train dataset\n",
        "\n",
        "###Negative Dataset\n",
        "\n",
        "Use different objects from random patches in train dataset"
      ],
      "metadata": {
        "id": "4nyPjabFx3_F"
      }
    },
    {
      "cell_type": "code",
      "source": [
        "from matplotlib.cbook import maxdict\n",
        "import os\n",
        "import cv2 as cv\n",
        "from random import randint\n",
        "from random import choice\n",
        "\n",
        "number_of_sequences = 4\n",
        "\n",
        "sequences = dict()\n",
        "\n",
        "number_of_samples_per_sequence = 100\n",
        "\n",
        "minimum_bbox_h, maximum_bbox_h = 0.1, 0.5\n",
        "minimum_bbox_w, maximum_bbox_w = 0.1, 0.5\n",
        "\n",
        "min_intersection_ratio = 0.8\n",
        "\n",
        "max_diff_width_height = 30\n",
        "\n",
        "for seq_id in range(number_of_sequences):\n",
        "\n",
        "  sequence = list()\n",
        "  visited_ids = list()\n",
        "\n",
        "  bboxes = parse('dataset/000{seq_id}.txt'.format(seq_id=seq_id))\n",
        "\n",
        "  # Get positive samples from whole sequence\n",
        "  for frame_id, frame_bboxes in bboxes.items():\n",
        "    img = cv.imread('dataset/000{seq_id}/{frame_id:06d}.png'.format(seq_id=seq_id, frame_id=frame_id))\n",
        "    img = cv.cvtColor(img, cv.COLOR_BGR2RGB)\n",
        "\n",
        "    for bbox in frame_bboxes:\n",
        "      id, x1, y1, x2, y2 = bbox.astype('int32')\n",
        "\n",
        "      if id not in visited_ids:\n",
        "        visited_ids.append(id)\n",
        "        bbox_img = img[y1:y2,x1:x2]\n",
        "        sequence.append((bbox_img,1))\n",
        "\n",
        "  # Generate negative samples\n",
        "  for sample in range(number_of_samples_per_sequence):\n",
        "\n",
        "    frame_id = choice(list(bboxes.keys()))\n",
        "    frame_bboxes = bboxes[frame_id]\n",
        "    \n",
        "    img = cv.imread('dataset/000{seq_id}/{frame_id:06d}.png'.format(seq_id=seq_id, frame_id=frame_id))\n",
        "    img = cv.cvtColor(img, cv.COLOR_BGR2RGB)\n",
        "\n",
        "    # Generate valid dimensions\n",
        "    while(True):\n",
        "      random_y1 = randint(0,img.shape[0])\n",
        "      random_y2 = randint(random_y1,img.shape[0])\n",
        "\n",
        "      random_x1 = randint(0,img.shape[1])\n",
        "      random_x2 = randint(random_x1,img.shape[1])\n",
        "\n",
        "      # validate dimensions\n",
        "      if random_y2 - random_y1 < minimum_bbox_h*img.shape[0] or random_y2 - random_y1 > maximum_bbox_h*img.shape[0] :\n",
        "        continue\n",
        "      if random_x2 - random_x1 < minimum_bbox_w*img.shape[1] or random_x2 - random_x1 > maximum_bbox_w*img.shape[1] :\n",
        "        continue\n",
        "\n",
        "      if abs((random_x2 - random_x1) - (random_y2 - random_y1)) > max_diff_width_height:\n",
        "        continue\n",
        "      break\n",
        "\n",
        "    random_bbox = (random_x1, random_y1, random_x2, random_y2)\n",
        "    random_area = area(random_bbox)\n",
        "\n",
        "    # check intersection with vehicles\n",
        "    is_vehicle = 0\n",
        "    for (id, x1,y1,x2,y2) in frame_bboxes:\n",
        "      vehicle_bbox = (x1,y1,x2,y2)\n",
        "      vehicle_area = area(vehicle_bbox)\n",
        "\n",
        "      intersection_bbox = intersection(vehicle_bbox, random_bbox)\n",
        "      \n",
        "      # no intersection\n",
        "      if intersection_bbox is None:\n",
        "        continue\n",
        "      \n",
        "      else:\n",
        "        intersection_area = area(intersection_bbox)\n",
        "        if intersection_area/vehicle_area > min_intersection_ratio and intersection_area/random_area > min_intersection_ratio:       \n",
        "          is_vehicle = 1\n",
        "          break\n",
        "\n",
        "    random_bbox_img = img[random_y1:random_y2,random_x1:random_x2]\n",
        "    if is_vehicle == 0:\n",
        "      sequence.append((random_bbox_img,is_vehicle))\n",
        "\n",
        "  sequences[seq_id] = sequence"
      ],
      "metadata": {
        "id": "L_ZIB2HQz0_J"
      },
      "execution_count": null,
      "outputs": []
    },
    {
      "cell_type": "markdown",
      "source": [
        "###Download car images from Stanford University cars dataset and add them to sequences."
      ],
      "metadata": {
        "id": "TdLsQcTc4Lfx"
      }
    },
    {
      "cell_type": "code",
      "source": [
        "!wget http://ai.stanford.edu/~jkrause/car196/cars_test.tgz\n",
        "!tar -xf cars_test.tgz"
      ],
      "metadata": {
        "id": "48ZT1hUD4wva",
        "outputId": "b8a2ea85-0034-4c64-d25e-6b0dbaa8da55",
        "colab": {
          "base_uri": "https://localhost:8080/"
        }
      },
      "execution_count": null,
      "outputs": [
        {
          "output_type": "stream",
          "name": "stdout",
          "text": [
            "--2022-03-24 16:18:20--  http://ai.stanford.edu/~jkrause/car196/cars_test.tgz\n",
            "Resolving ai.stanford.edu (ai.stanford.edu)... 171.64.68.10\n",
            "Connecting to ai.stanford.edu (ai.stanford.edu)|171.64.68.10|:80... connected.\n",
            "HTTP request sent, awaiting response... 200 OK\n",
            "Length: 977350468 (932M) [application/x-gzip]\n",
            "Saving to: ‘cars_test.tgz.1’\n",
            "\n",
            "cars_test.tgz.1       0%[                    ]   1.18M   966KB/s               ^C\n",
            "^C\n"
          ]
        }
      ]
    },
    {
      "cell_type": "code",
      "source": [
        "import os\n",
        "from random import shuffle, choice\n",
        "\n",
        "dataset_length = len(os.listdir('cars_test'))\n",
        "\n",
        "number_of_samples_to_add = 200\n",
        "\n",
        "inds = list(range(dataset_length))\n",
        "shuffle(inds)\n",
        "\n",
        "for i in range(number_of_samples_to_add):\n",
        "  img_id = inds[i]\n",
        "  img = cv.imread(\"cars_test/{img_id:05d}.jpg\".format(img_id=img_id))\n",
        "\n",
        "  random_sequence_id = choice(list(range(number_of_sequences-1)))\n",
        "  sequences[random_sequence_id].append((img,1))"
      ],
      "metadata": {
        "id": "qHfqXsAVOyRH"
      },
      "execution_count": null,
      "outputs": []
    },
    {
      "cell_type": "markdown",
      "source": [
        "####Dataset Statistics\n",
        "\n",
        "- Aspect Ratio\n",
        "- Image Sizes"
      ],
      "metadata": {
        "id": "8Maer1thVU-4"
      }
    },
    {
      "cell_type": "code",
      "source": [
        "import numpy as np\n",
        "\n",
        "# Number of samples\n",
        "number_of_samples = 0\n",
        "for seq in sequences.values():\n",
        "  number_of_samples += len(seq)\n",
        "\n",
        "# Class distribution\n",
        "class_count = np.zeros(2)\n",
        "\n",
        "# compute statistics on full image dataset\n",
        "aspect_ratios = np.zeros(number_of_samples)\n",
        "min_aspect_ratio, max_aspect_ratio = np.iinfo(np.int32).max, 0\n",
        "\n",
        "widths = np.zeros(number_of_samples)\n",
        "min_width, max_width = np.iinfo(np.int32).max, 0\n",
        "\n",
        "heights = np.zeros(number_of_samples)\n",
        "min_height, max_height = np.iinfo(np.int32).max, 0\n",
        "\n",
        "for seq in sequences.values():\n",
        "  for i, sample in enumerate(seq):\n",
        "    widths[i] = sample[0].shape[1]\n",
        "    min_width = widths[i] if widths[i] < min_width else min_width\n",
        "    max_width = widths[i] if widths[i] > max_width else max_width\n",
        "\n",
        "    heights[i] = sample[0].shape[0]\n",
        "    min_height = heights[i] if heights[i] < min_height else min_height\n",
        "    max_height = widths[i] if widths[i] > max_height else max_height\n",
        "\n",
        "    aspect_ratios[i] = heights[i] / float(widths[i])\n",
        "    min_aspect_ratio = aspect_ratios[i] if aspect_ratios[i] < min_aspect_ratio else min_aspect_ratio\n",
        "    max_aspect_ratio = aspect_ratios[i] if aspect_ratios[i] > max_aspect_ratio else max_aspect_ratio\n",
        "    class_count[sample[1]] += 1\n",
        "\n",
        "aspect_ratio_interval = max_aspect_ratio - min_aspect_ratio\n",
        "width_interval = int(max_width - min_width)\n",
        "height_interval = int(max_height - min_height)\n",
        "\n",
        "aspect_ratio_banks = range(int(min_aspect_ratio*100), int(max_aspect_ratio*100), int(aspect_ratio_interval*100))\n",
        "width_banks = range(int(min_width), int(max_width), width_interval)\n",
        "height_banks = range(int(min_height), int(max_height), height_interval)\n",
        "\n",
        "# Todo display number of instances in each range"
      ],
      "metadata": {
        "id": "sJ4SYUe7T9J5"
      },
      "execution_count": null,
      "outputs": []
    },
    {
      "cell_type": "markdown",
      "source": [
        "####Class Distribution\n",
        "\n",
        "Display number of vehicle and non-vehicle images in dataset"
      ],
      "metadata": {
        "id": "c3fiVmsUTTV5"
      }
    },
    {
      "cell_type": "code",
      "source": [
        "plt.figure(figsize=(5,5))\n",
        "plt.bar(['Non-Vehicles','Vehicles'],class_count, width=0.3)\n",
        "plt.ylabel('Quantity')\n",
        "plt.title(\"Class Distribution\")\n",
        "plt.show()"
      ],
      "metadata": {
        "colab": {
          "base_uri": "https://localhost:8080/",
          "height": 336
        },
        "id": "7QA0drCaSp67",
        "outputId": "25250dde-3989-4a81-eab7-690cadb9809d"
      },
      "execution_count": null,
      "outputs": [
        {
          "output_type": "display_data",
          "data": {
            "text/plain": [
              "<Figure size 360x360 with 1 Axes>"
            ],
            "image/png": "[encoded data removed]"
          },
          "metadata": {
            "needs_background": "light"
          }
        }
      ]
    },
    {
      "cell_type": "markdown",
      "source": [
        "##**Image Preprocessing**\n",
        "\n",
        "\n",
        "\n",
        "*   Resize Images\n",
        "*   Normalize Images\n",
        "*   Extract HoG Features\n",
        "*   Add Noise?\n",
        "\n",
        "\n",
        "\n",
        "\n"
      ],
      "metadata": {
        "id": "GzC8ehSaxzMz"
      }
    },
    {
      "cell_type": "code",
      "source": [
        "from skimage.transform import resize\n",
        "from skimage.feature import hog\n",
        "import numpy as np\n",
        "from random import shuffle\n",
        "\n",
        "'''\n",
        "Preprocess a series of extracted image from an image sequence. \n",
        "sequences: dict - Each key contains a list of tuples. Each tuple has the following format (np.array(h,w,3), integer label)\n",
        "resize_shape: tuple (new_height, new_width) - resizing shape\n",
        "orientations: int - number of orientation bins in hog feature computations\n",
        "pixels_per_cells: tuple (h,w) - number of pixels per cell in hog feature computation\n",
        "cells_per_block: tuple (h,w) - number of cells per block in hog feature computation\n",
        "return (features, labels) - features and labels are dict. Each key represents the sequence id.\n",
        "'''\n",
        "def preprocess(sequences, resize_shape, orientations, pixels_per_cell, cells_per_block):\n",
        "  number_of_sequences = len(sequences.keys())\n",
        "\n",
        "  # compute number of hog features\n",
        "  number_hog_features = len(hog(np.zeros(resize_shape), orientations=orientations, pixels_per_cell = pixels_per_cell, cells_per_block=cells_per_block, feature_vector=True))\n",
        "  \n",
        "  features = dict()\n",
        "  labels = dict()\n",
        "\n",
        "  for i, seq in enumerate(sequences.values()):\n",
        "    number_of_samples = len(seq) # number of image samples in sequence\n",
        "\n",
        "    seq_features = np.zeros((number_of_samples, number_hog_features)) # x\n",
        "    seq_labels = np.zeros(number_of_samples) # y\n",
        "\n",
        "    for j, (sample, label) in enumerate(seq):\n",
        "      # Resize image\n",
        "      resized = resize(sample, resize_shape)\n",
        "\n",
        "      # Min-max normalization\n",
        "      min, max = np.min(resized), np.max(resized)\n",
        "      normalized = (resized - min) / (max - min)\n",
        "\n",
        "      # Extract HoG features\n",
        "      seq_labels[j] = label\n",
        "      seq_features[j] = hog(normalized, orientations=orientations, pixels_per_cell = pixels_per_cell, cells_per_block=cells_per_block, feature_vector=True, multichannel=True)\n",
        "\n",
        "    # Shuffle\n",
        "    inds = list(range(number_of_samples))\n",
        "    shuffle(inds)\n",
        "    seq_features = seq_features[inds]\n",
        "    seq_labels = seq_labels[inds]\n",
        "\n",
        "    # remove nan values\n",
        "    non_nan = ~np.isnan(seq_features).any(axis=1)\n",
        "    seq_features, seq_labels = seq_features[non_nan], seq_labels[non_nan]\n",
        "\n",
        "    features[i] = seq_features\n",
        "    labels[i] = seq_labels\n",
        "\n",
        "  return features, labels\n",
        "\n"
      ],
      "metadata": {
        "id": "sBQnrx_8Z_E5"
      },
      "execution_count": 2,
      "outputs": []
    },
    {
      "cell_type": "markdown",
      "source": [
        "###**3-Fold Cross-Validation**\n",
        "\n",
        "For each validation, choose an image sequence to be the validation set"
      ],
      "metadata": {
        "id": "jPtp6nFOG84j"
      }
    },
    {
      "cell_type": "code",
      "source": [
        "# Performance Measures\n",
        "\n",
        "def accuracy(tp, fp, tn, fn):\n",
        "  return 100*(tp+tn)/(tp+fp+tn+fn)\n",
        "\n",
        "def precision(tp, fp):\n",
        "  return 100*tp/(tp+fp)\n",
        "\n",
        "def recall(tp, fn):\n",
        "  return 100*tp/(tp+fn)"
      ],
      "metadata": {
        "id": "57j1RQQgSIrA"
      },
      "execution_count": 5,
      "outputs": []
    },
    {
      "cell_type": "code",
      "source": [
        "from random import shuffle\n",
        "from sklearn import svm\n",
        "import time\n",
        "\n",
        "\"\"\"\n",
        "Perform cross-validation for training SVM classifier for vehicle detection.\n",
        "features: dictionary where keys are the image sequences ids and values are numpy arrays of features.\n",
        "labels: dictionary where keys are the image sequences ids and value are numpy arrays of labels (1 for vehicle, 0 for non-vehcile)\n",
        "K: number of folds. Must be a value between 1 and number of sequences.\n",
        "C: parameter used for SVM training.\n",
        "Return average accuracy\n",
        "\"\"\"\n",
        "def cross_validation(sequences, resize_shape=(80,128), orientations=9, pixels_per_cell=(6,6), cells_per_block=(2,3), C=10):\n",
        "  # Preprocess\n",
        "  features, labels = preprocess(sequences, resize_shape=resize_shape, orientations=orientations, pixels_per_cell=pixels_per_cell, cells_per_block=cells_per_block)\n",
        "\n",
        "  # 3-Fold Cross Validation\n",
        "  K=3\n",
        "\n",
        "  # Performance measures\n",
        "  tp, fp, tn, fn = np.zeros(K), np.zeros(K), np.zeros(K), np.zeros(K)\n",
        "\n",
        "  accuracies, recalls, precisions, inference_execution_times =  np.zeros(K),  np.zeros(K),  np.zeros(K),  np.zeros(K)\n",
        "\n",
        "  for k in range(K):\n",
        "    # val dataset\n",
        "    x_val, y_val = features[k], labels[k]\n",
        "\n",
        "    # train dataset\n",
        "    train_range = list(range(0,k)) + list(range(k+1,K))\n",
        "    x_train, y_train = None, None\n",
        "    for i in train_range:\n",
        "      if x_train is None:\n",
        "        x_train = features[i]\n",
        "      else:\n",
        "        x_train = np.concatenate((x_train, features[i]), axis=0)\n",
        "\n",
        "      if y_train is None:\n",
        "        y_train = labels[i]\n",
        "      else:\n",
        "        y_train = np.concatenate((y_train, labels[i]), axis=0)\n",
        "\n",
        "    # SVM Binary Classifier\n",
        "    clf = svm.SVC(gamma='scale', C=C)\n",
        "          \n",
        "    # Train\n",
        "    clf.fit(x_train, y_train)\n",
        "\n",
        "    # Predict\n",
        "    start = time.time()\n",
        "    y_pred = clf.predict(x_val)\n",
        "    end = time.time()\n",
        "    inference_execution_times[k] = (end-start)\n",
        "\n",
        "    # Performance measurements\n",
        "    tp[k] = np.sum(np.logical_and(y_pred == 1, y_val == 1))\n",
        "    fp[k] = np.sum(np.logical_and(y_pred == 1, y_val == 0))\n",
        "    tn[k] = np.sum(np.logical_and(y_pred == 0, y_val == 0))\n",
        "    fn[k] = np.sum(np.logical_and(y_pred == 0, y_val == 1))\n",
        "\n",
        "    accuracies[k] = accuracy(tp[k], fp[k], tn[k], fn[k])\n",
        "    recalls[k] = recall(tp[k], fn[k])\n",
        "    precisions[k] = precision(tp[k], fp[k])\n",
        "\n",
        "  return accuracies, recalls, precisions, inference_execution_times"
      ],
      "metadata": {
        "id": "KTZL1V1N6fyA"
      },
      "execution_count": 4,
      "outputs": []
    },
    {
      "cell_type": "markdown",
      "source": [
        "###Train and Test"
      ],
      "metadata": {
        "id": "ZkFAFQp_2agO"
      }
    },
    {
      "cell_type": "code",
      "source": [
        "W = 128\n",
        "H = 80\n",
        "orientations = 9 # number of orientation bins\n",
        "pixels_per_cell = (6,6) # number of pixels per cell\n",
        "cells_per_block = (2,3) # number of cells per block\n",
        "\n",
        "features, labels = preprocess(sequences, (H,W), orientations, pixels_per_cell, cells_per_block)\n",
        "\n",
        "# SVM Parameters\n",
        "C = 1000\n",
        "\n",
        "# Train set: sequences 0, 1 and 2\n",
        "x_train, y_train = None, None\n",
        "for i in range(number_of_sequences-1):\n",
        "  if x_train is None:\n",
        "    x_train = features[i]\n",
        "  else:\n",
        "    x_train = np.concatenate((x_train,features[i]),axis=0)\n",
        "\n",
        "  if y_train is None:\n",
        "    y_train = labels[i]\n",
        "  else:\n",
        "    y_train = np.concatenate((y_train,labels[i]),axis=0)\n",
        "\n",
        "# Test set: sequence 3\n",
        "x_test, y_test = features[3], labels[3]\n",
        "\n",
        "# SVM Binary Classifier\n",
        "clf = svm.SVC(gamma='scale', C=C)\n",
        "\n",
        "# Train\n",
        "clf.fit(x_train, y_train)\n",
        "\n",
        "y_pred = clf.predict(x_test)\n",
        "\n",
        "tp = np.sum(np.logical_and(y_pred == 1, y_test == 1))\n",
        "fp = np.sum(np.logical_and(y_pred == 1, y_test == 0))\n",
        "tn = np.sum(np.logical_and(y_pred == 0, y_test == 0))\n",
        "fn = np.sum(np.logical_and(y_pred == 0, y_test == 1))\n",
        "\n",
        "print(\"recall: \",recall(tp,fn))\n",
        "print(\"accuracy: \",accuracy(tp,fp, tn,fn))\n",
        "print(\"precision: \",precision(tp,fp))"
      ],
      "metadata": {
        "colab": {
          "base_uri": "https://localhost:8080/"
        },
        "id": "tLIScVXmwL7a",
        "outputId": "cf70125e-1042-491b-ca95-fa9d4c54a780"
      },
      "execution_count": null,
      "outputs": [
        {
          "output_type": "stream",
          "name": "stdout",
          "text": [
            "recall:  77.77777777777777\n",
            "accuracy:  94.4954128440367\n",
            "precision:  63.63636363636363\n"
          ]
        }
      ]
    },
    {
      "cell_type": "markdown",
      "source": [
        "###Cross-Validation to Tune Hyper-parameters"
      ],
      "metadata": {
        "id": "fJL4cgnw2g3e"
      }
    },
    {
      "cell_type": "code",
      "source": [
        "# HoG parameters\n",
        "\n",
        "# Input image size\n",
        "W = 128\n",
        "H = 80\n",
        "orientations = 9 # number of orientation bins\n",
        "pixels_per_cell = (6,6) # number of pixels per cell\n",
        "cells_per_block = (2,3) # number of cells per block\n",
        "\n",
        "# SVM Parameters\n",
        "C = 1000\n",
        "\n",
        "accuracies, recalls, precisions, inference_exec_times = cross_validation(sequences, resize_shape=(H,W), orientations=orientations, pixels_per_cell=pixels_per_cell, cells_per_block=cells_per_block, C=C)\n",
        "\n",
        "print(\"recall: {recall:.4f}% std: {std:.4f}\".format(recall=np.mean(recalls), std=np.std(recalls)))\n",
        "print(\"accuracy: {acc:.4f}% std: {std:.4f}\".format(acc=np.mean(accuracies),std=np.std(accuracies)))\n",
        "print(\"precision: {precision:.4f}% {std:.4f}\".format(precision=np.mean(precisions), std=np.std(precisions)))\n",
        "print(\"Inference Execution Time: {t}s\".format(t=np.mean(inference_exec_times)))"
      ],
      "metadata": {
        "id": "_hdXep1davIU",
        "colab": {
          "base_uri": "https://localhost:8080/",
          "height": 278
        },
        "outputId": "651489b2-f8a9-4c64-f747-d250be3e1859"
      },
      "execution_count": 9,
      "outputs": [
        {
          "output_type": "stream",
          "name": "stdout",
          "text": [
            "0.0\n"
          ]
        },
        {
          "output_type": "error",
          "ename": "NameError",
          "evalue": "ignored",
          "traceback": [
            "\u001b[0;31m---------------------------------------------------------------------------\u001b[0m",
            "\u001b[0;31mNameError\u001b[0m                                 Traceback (most recent call last)",
            "\u001b[0;32m<ipython-input-9-0cfee56121d3>\u001b[0m in \u001b[0;36m<module>\u001b[0;34m()\u001b[0m\n\u001b[1;32m     12\u001b[0m \u001b[0mstd\u001b[0m \u001b[0;34m=\u001b[0m \u001b[0mnp\u001b[0m\u001b[0;34m.\u001b[0m\u001b[0mstd\u001b[0m\u001b[0;34m(\u001b[0m\u001b[0;36m100\u001b[0m\u001b[0;34m)\u001b[0m\u001b[0;34m\u001b[0m\u001b[0;34m\u001b[0m\u001b[0m\n\u001b[1;32m     13\u001b[0m \u001b[0mprint\u001b[0m\u001b[0;34m(\u001b[0m\u001b[0mstd\u001b[0m\u001b[0;34m)\u001b[0m\u001b[0;34m\u001b[0m\u001b[0;34m\u001b[0m\u001b[0m\n\u001b[0;32m---> 14\u001b[0;31m \u001b[0maccuracies\u001b[0m\u001b[0;34m,\u001b[0m \u001b[0mrecalls\u001b[0m\u001b[0;34m,\u001b[0m \u001b[0mprecisions\u001b[0m\u001b[0;34m,\u001b[0m \u001b[0minference_exec_times\u001b[0m \u001b[0;34m=\u001b[0m \u001b[0mcross_validation\u001b[0m\u001b[0;34m(\u001b[0m\u001b[0msequences\u001b[0m\u001b[0;34m,\u001b[0m \u001b[0mresize_shape\u001b[0m\u001b[0;34m=\u001b[0m\u001b[0;34m(\u001b[0m\u001b[0mH\u001b[0m\u001b[0;34m,\u001b[0m\u001b[0mW\u001b[0m\u001b[0;34m)\u001b[0m\u001b[0;34m,\u001b[0m \u001b[0morientations\u001b[0m\u001b[0;34m=\u001b[0m\u001b[0morientations\u001b[0m\u001b[0;34m,\u001b[0m \u001b[0mpixels_per_cell\u001b[0m\u001b[0;34m=\u001b[0m\u001b[0mpixels_per_cell\u001b[0m\u001b[0;34m,\u001b[0m \u001b[0mcells_per_block\u001b[0m\u001b[0;34m=\u001b[0m\u001b[0mcells_per_block\u001b[0m\u001b[0;34m,\u001b[0m \u001b[0mC\u001b[0m\u001b[0;34m=\u001b[0m\u001b[0mC\u001b[0m\u001b[0;34m)\u001b[0m\u001b[0;34m\u001b[0m\u001b[0;34m\u001b[0m\u001b[0m\n\u001b[0m\u001b[1;32m     15\u001b[0m \u001b[0;34m\u001b[0m\u001b[0m\n\u001b[1;32m     16\u001b[0m \u001b[0mprint\u001b[0m\u001b[0;34m(\u001b[0m\u001b[0;34m\"recall: {recall:.4f}% std: {std:.4f}\"\u001b[0m\u001b[0;34m.\u001b[0m\u001b[0mformat\u001b[0m\u001b[0;34m(\u001b[0m\u001b[0mrecall\u001b[0m\u001b[0;34m=\u001b[0m\u001b[0mnp\u001b[0m\u001b[0;34m.\u001b[0m\u001b[0mmean\u001b[0m\u001b[0;34m(\u001b[0m\u001b[0mrecalls\u001b[0m\u001b[0;34m)\u001b[0m\u001b[0;34m,\u001b[0m \u001b[0mstd\u001b[0m\u001b[0;34m=\u001b[0m\u001b[0mnp\u001b[0m\u001b[0;34m.\u001b[0m\u001b[0mstd\u001b[0m\u001b[0;34m(\u001b[0m\u001b[0mrecalls\u001b[0m\u001b[0;34m)\u001b[0m\u001b[0;34m)\u001b[0m\u001b[0;34m)\u001b[0m\u001b[0;34m\u001b[0m\u001b[0;34m\u001b[0m\u001b[0m\n",
            "\u001b[0;31mNameError\u001b[0m: name 'sequences' is not defined"
          ]
        }
      ]
    },
    {
      "cell_type": "markdown",
      "source": [
        "###Vary Parameter C"
      ],
      "metadata": {
        "id": "hwx7Q1pDHOO_"
      }
    },
    {
      "cell_type": "code",
      "source": [
        "# HoG parameters\n",
        "\n",
        "# Input image size\n",
        "W = 128\n",
        "H = 80\n",
        "orientations = 9 # number of orientation bins\n",
        "pixels_per_cell = (8,16) # number of pixels per cell\n",
        "cells_per_block = (4,4) # number of cells per block\n",
        "\n",
        "# 3-Fold CV\n",
        "K = 3\n",
        "\n",
        "param_range = [0.01, 0.1, 1, 10, 100]\n",
        "\n",
        "recalls, accuracies, precisions = np.zeros(len(param_range)), np.zeros(len(param_range)), np.zeros(len(param_range))\n",
        "inference_exec_times = np.zeros(len(param_range))\n",
        "\n",
        "for i, c in enumerate(param_range):\n",
        "  accuracies, recalls, precisions, inference_exec_times = cross_validation(sequences, resize_shape=(H,W), orientations=orientations, pixels_per_cell=pixels_per_cell, cells_per_block=cells_per_block, C=C)\n",
        "  recalls[i] = np.mean(recalls)\n",
        "  accuracies[i] = np.mean(accuracies)\n",
        "  precisions[i] = np.mean(precisions)\n",
        "\n",
        "\n",
        "# Plot Recall\n",
        "plt.plot(param_range,recalls)\n",
        "plt.title(\"Effect of Varying C Parameter on Recall\")\n",
        "plt.xlabel(\"C Value\")\n",
        "plt.ylabel(\"Recall (%)\")\n",
        "plt.show()\n",
        "print(\"Best recall: {acc:.4f}%\\nC: {c}\".format(acc=np.max(recalls), c=param_range[np.argmax(recalls)]))\n",
        "\n",
        "# Plot Inference Execution Times\n",
        "plt.plot(param_range,inference_exec_times)\n",
        "plt.title(\"Effect of Varying C Parameter on Inference Execution Time\")\n",
        "plt.xlabel(\"C Value\")\n",
        "plt.ylabel(\"Inference Execution Time (s)\")\n",
        "plt.show()\n",
        "print(\"Best Inference Execution Time: {inf:.4f}s\\nC: {c}\".format(inf=np.max(inference_exec_times), c=param_range[np.argmin(inference_exec_times)]))"
      ],
      "metadata": {
        "colab": {
          "base_uri": "https://localhost:8080/",
          "height": 646
        },
        "id": "4Ttxaz3NA-cA",
        "outputId": "c9eb3cd9-291a-4c7a-c30f-0352f184a396"
      },
      "execution_count": null,
      "outputs": [
        {
          "output_type": "display_data",
          "data": {
            "text/plain": [
              "<Figure size 432x288 with 1 Axes>"
            ],
            "image/png": "[encoded data removed]"
          },
          "metadata": {
            "needs_background": "light"
          }
        },
        {
          "output_type": "stream",
          "name": "stdout",
          "text": [
            "Best recall: 87.7049%\n",
            "C: 10\n"
          ]
        },
        {
          "output_type": "display_data",
          "data": {
            "text/plain": [
              "<Figure size 432x288 with 1 Axes>"
            ],
            "image/png": "[encoded data removed]"
          },
          "metadata": {
            "needs_background": "light"
          }
        },
        {
          "output_type": "stream",
          "name": "stdout",
          "text": [
            "Best Inference Execution Time: 0.0201s\n",
            "C: 0.1\n"
          ]
        }
      ]
    },
    {
      "cell_type": "markdown",
      "source": [
        "###Vary HoG Block Shape"
      ],
      "metadata": {
        "id": "IkE5RLhaLKdj"
      }
    },
    {
      "cell_type": "code",
      "source": [
        "# HoG parameters\n",
        "\n",
        "# Input image size\n",
        "W = 128\n",
        "H = 80\n",
        "orientations = 9 # number of orientation bins\n",
        "pixels_per_cell = (8,16) # number of pixels per cell\n",
        "\n",
        "# SVM Parameters\n",
        "C = 1\n",
        "\n",
        "# 3-Fold CV\n",
        "K = 3\n",
        "\n",
        "param_range = [(1,1),(2,2),(2,3),(3,2),(3,3),(3,4),(4,3),(4,4)]\n",
        "\n",
        "recalls = np.zeros(len(param_range))\n",
        "inference_exec_times = np.zeros(len(param_range))\n",
        "\n",
        "for i, cells_per_block in enumerate(param_range):\n",
        "  features, labels = preprocess(sequences, (H,W), orientations, pixels_per_cell, cells_per_block)\n",
        "  tp, fp, tn, fn, inference_exec_times[i] = cross_validation(features, labels, K=K, C=C)\n",
        "  recalls[i] = recall(tp,fn)\n",
        "\n",
        "param_range_str = [str(x) for x in param_range]\n",
        "\n",
        "# Plot Recall\n",
        "plt.bar(param_range_str,recalls)\n",
        "plt.title(\"Effect of Varying Number of Cells Per Block on Recall\")\n",
        "plt.xlabel(\"Number of Cells per Block\")\n",
        "plt.ylabel(\"Recall (%)\")\n",
        "plt.show()\n",
        "best = param_range[np.argmax(recalls)]\n",
        "print(\"Best recall: {acc:.4f}%\\nCells per block: ({h},{w})\".format(acc=np.max(recalls), h=best[0], w=best[1]))\n",
        "\n",
        "# Plot Inference Execution Times\n",
        "plt.bar(param_range_str,inference_exec_times)\n",
        "plt.title(\"Effect of Varying C Parameter on Inference Execution Time\")\n",
        "plt.xlabel(\"Number of Cells per Block\")\n",
        "plt.ylabel(\"Inference Execution Time (s)\")\n",
        "plt.show()\n",
        "best = param_range[np.argmin(inference_exec_times)]\n",
        "print(\"Best Inference Execution Time: {inf:.4f}s\\nCells per block: ({h},{w})\".format(inf=np.max(inference_exec_times), h=best[0], w=best[1]))"
      ],
      "metadata": {
        "colab": {
          "base_uri": "https://localhost:8080/",
          "height": 646
        },
        "id": "5CRXXH8GJbhU",
        "outputId": "94fbb0e0-2e9c-4fa0-95ea-c669167ad985"
      },
      "execution_count": null,
      "outputs": [
        {
          "output_type": "display_data",
          "data": {
            "text/plain": [
              "<Figure size 432x288 with 1 Axes>"
            ],
            "image/png": "[encoded data removed]"
          },
          "metadata": {
            "needs_background": "light"
          }
        },
        {
          "output_type": "stream",
          "name": "stdout",
          "text": [
            "Best accuracy: 96.7112%\n",
            "Cells per block: (4,3)\n"
          ]
        },
        {
          "output_type": "display_data",
          "data": {
            "text/plain": [
              "<Figure size 432x288 with 1 Axes>"
            ],
            "image/png": "[encoded data removed]"
          },
          "metadata": {
            "needs_background": "light"
          }
        },
        {
          "output_type": "stream",
          "name": "stdout",
          "text": [
            "Best Inference Execution Time: 0.6314s\n",
            "Cells per block: (1,1)\n"
          ]
        }
      ]
    },
    {
      "cell_type": "code",
      "source": [
        "# HoG parameters\n",
        "\n",
        "# Input image size\n",
        "W = 128\n",
        "H = 80\n",
        "orientations = 9 # number of orientation bins\n",
        "\n",
        "cells_per_block = (2,2)\n",
        "\n",
        "# pixels_per_cell = () # number of pixels per cell\n",
        "\n",
        "# SVM Parameters\n",
        "C = 1\n",
        "\n",
        "# 3-Fold CV\n",
        "K = 3\n",
        "\n",
        "param_range = [(4,4),(6,6),(8,8)]\n",
        "\n",
        "recalls = np.zeros(len(param_range))\n",
        "inference_exec_times = np.zeros(len(param_range))\n",
        "\n",
        "for i, pixels_per_cell in enumerate(param_range):\n",
        "  features, labels = preprocess(sequences, (H,W), orientations, pixels_per_cell, cells_per_block)\n",
        "  tp, fp, tn, fn, inference_exec_times[i] = cross_validation(features, labels, K=K, C=C)\n",
        "  recalls[i] = recall(tp,fn)\n",
        "\n",
        "param_range_str = [str(x) for x in param_range]\n",
        "\n",
        "# Plot Accuracies\n",
        "plt.bar(param_range_str,recalls)\n",
        "plt.title(\"Effect of Varying Number of Pixels per Cell on Recall\")\n",
        "plt.xlabel(\"Number of Pixels per Cell\")\n",
        "plt.ylabel(\"Recall (%)\")\n",
        "plt.show()\n",
        "best = param_range[np.argmax(recalls)]\n",
        "print(\"Best recall: {acc:.4f}%\\nPixels per Cell: ({h},{w})\".format(acc=np.max(recalls), h=best[0], w=best[1]))\n",
        "\n",
        "# Plot Inference Execution Times\n",
        "plt.bar(param_range_str,inference_exec_times)\n",
        "plt.title(\"Effect of Varying C Parameter on Inference Execution Time\")\n",
        "plt.xlabel(\"Number of Pixels per Cell\")\n",
        "plt.ylabel(\"Inference Execution Time (s)\")\n",
        "plt.show()\n",
        "best = param_range[np.argmin(inference_exec_times)]\n",
        "print(\"Best Inference Execution Time: {inf:.4f}s\\nPixels per Cell: ({h},{w})\".format(inf=np.max(inference_exec_times), h=best[0], w=best[1]))"
      ],
      "metadata": {
        "colab": {
          "base_uri": "https://localhost:8080/",
          "height": 646
        },
        "id": "6WzMQZttVud5",
        "outputId": "901e2275-7629-410f-c113-ec2b0c32eec2"
      },
      "execution_count": null,
      "outputs": [
        {
          "output_type": "display_data",
          "data": {
            "text/plain": [
              "<Figure size 432x288 with 1 Axes>"
            ],
            "image/png": "[encoded data removed]"
          },
          "metadata": {
            "needs_background": "light"
          }
        },
        {
          "output_type": "stream",
          "name": "stdout",
          "text": [
            "Best accuracy: 96.7112%\n",
            "Pixels per Cell: (4,4)\n"
          ]
        },
        {
          "output_type": "display_data",
          "data": {
            "text/plain": [
              "<Figure size 432x288 with 1 Axes>"
            ],
            "image/png": "[encoded data removed]"
          },
          "metadata": {
            "needs_background": "light"
          }
        },
        {
          "output_type": "stream",
          "name": "stdout",
          "text": [
            "Best Inference Execution Time: 29.0596s\n",
            "Pixels per Cell: (4,4)\n"
          ]
        }
      ]
    },
    {
      "cell_type": "code",
      "source": [
        ""
      ],
      "metadata": {
        "id": "w-BLkRekXs4_"
      },
      "execution_count": null,
      "outputs": []
    }
  ]
}