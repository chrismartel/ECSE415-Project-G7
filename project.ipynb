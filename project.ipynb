{
  "nbformat": 4,
  "nbformat_minor": 0,
  "metadata": {
    "colab": {
      "name": "project.ipynb",
      "provenance": [],
      "authorship_tag": "ABX9TyOqR89nWxL25mti4w/Lztxj",
      "include_colab_link": true
    },
    "kernelspec": {
      "name": "python3",
      "display_name": "Python 3"
    },
    "language_info": {
      "name": "python"
    }
  },
  "cells": [
    {
      "cell_type": "markdown",
      "metadata": {
        "id": "view-in-github",
        "colab_type": "text"
      },
      "source": [
        "<a href=\"https://colab.research.google.com/github/chrismartel/ECSE415-Project-G7/blob/main/project.ipynb\" target=\"_parent\"><img src=\"https://colab.research.google.com/assets/colab-badge.svg\" alt=\"Open In Colab\"/></a>"
      ]
    },
    {
      "cell_type": "markdown",
      "source": [
        "###**Download Dataset**"
      ],
      "metadata": {
        "id": "NnquDhcQoJ9m"
      }
    },
    {
      "cell_type": "code",
      "execution_count": 21,
      "metadata": {
        "colab": {
          "base_uri": "https://localhost:8080/"
        },
        "id": "pgDjfRKol6ND",
        "outputId": "66b55aa9-dfd4-4495-a443-6e8bb7c528cd"
      },
      "outputs": [
        {
          "output_type": "stream",
          "name": "stdout",
          "text": [
            "--2022-02-26 01:23:26--  https://mcgill-my.sharepoint.com/:u:/g/personal/raghav_mehta_mail_mcgill_ca/EVEvhY9_jyVEk2uSZ8wZhFYBQ58C57I7ZB55jBocKwB5Jg?download=1\n",
            "Resolving mcgill-my.sharepoint.com (mcgill-my.sharepoint.com)... 13.107.136.9, 13.107.138.9\n",
            "Connecting to mcgill-my.sharepoint.com (mcgill-my.sharepoint.com)|13.107.136.9|:443... connected.\n",
            "HTTP request sent, awaiting response... 302 Found\n",
            "Location: /personal/raghav_mehta_mail_mcgill_ca/Documents/dataset.zip [following]\n",
            "--2022-02-26 01:23:27--  https://mcgill-my.sharepoint.com/personal/raghav_mehta_mail_mcgill_ca/Documents/dataset.zip\n",
            "Reusing existing connection to mcgill-my.sharepoint.com:443.\n",
            "HTTP request sent, awaiting response... 200 OK\n",
            "Length: 826880986 (789M) [application/x-zip-compressed]\n",
            "Saving to: ‘output’\n",
            "\n",
            "output              100%[===================>] 788.57M   103MB/s    in 8.2s    \n",
            "\n",
            "2022-02-26 01:23:35 (96.7 MB/s) - ‘output’ saved [826880986/826880986]\n",
            "\n"
          ]
        }
      ],
      "source": [
        "!wget -O output https://mcgill-my.sharepoint.com/:u:/g/personal/raghav_mehta_mail_mcgill_ca/EVEvhY9_jyVEk2uSZ8wZhFYBQ58C57I7ZB55jBocKwB5Jg?download=1\n",
        "!mv output dataset.zip\n",
        "!unzip dataset.zip"
      ]
    },
    {
      "cell_type": "code",
      "source": [
        ""
      ],
      "metadata": {
        "id": "2Sk85MPSotVo"
      },
      "execution_count": null,
      "outputs": []
    }
  ]
}